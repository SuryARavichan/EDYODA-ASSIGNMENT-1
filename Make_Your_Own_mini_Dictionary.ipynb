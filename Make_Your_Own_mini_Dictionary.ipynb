{
  "nbformat": 4,
  "nbformat_minor": 0,
  "metadata": {
    "colab": {
      "provenance": [],
      "authorship_tag": "ABX9TyNfeSj7IdQMWzwRkF4UO6O2",
      "include_colab_link": true
    },
    "kernelspec": {
      "name": "python3",
      "display_name": "Python 3"
    },
    "language_info": {
      "name": "python"
    },
    "gpuClass": "standard"
  },
  "cells": [
    {
      "cell_type": "markdown",
      "metadata": {
        "id": "view-in-github",
        "colab_type": "text"
      },
      "source": [
        "<a href=\"https://colab.research.google.com/github/SuryARavichan/EDYODA-ASSIGNMENT-1/blob/main/Make_Your_Own_mini_Dictionary.ipynb\" target=\"_parent\"><img src=\"https://colab.research.google.com/assets/colab-badge.svg\" alt=\"Open In Colab\"/></a>"
      ]
    },
    {
      "cell_type": "markdown",
      "source": [
        "Write a Python program to print a dictionary whose keys should be the alphabet from a-z and the value should be corresponding ASCII values\n",
        "\n",
        "\n",
        "\n",
        "Sample Output : {'a': 97, 'b': 98, 'c': 99, 'd': 100, 'e': 101, 'f': 102, 'g': 103, 'h': 104, 'i': 105, 'j': 106, 'k': 107, 'l': 108, 'm': 109, 'n': 110, 'o': 111, 'p': 112, 'q': 113, 'r': 114, 's': 115, 't': 116, 'u': 117, 'v': 118, 'w': 119, 'x': 120, 'y': 121, 'z': 122}"
      ],
      "metadata": {
        "id": "qKAWXpVmUj9E"
      }
    },
    {
      "cell_type": "code",
      "source": [
        "import string\n",
        "d = {c: ord(c) for c in string.ascii_lowercase}  \n",
        "d\n"
      ],
      "metadata": {
        "colab": {
          "base_uri": "https://localhost:8080/"
        },
        "id": "yZaf5neuUmfh",
        "outputId": "17dc46ff-4a05-4e25-c93b-59ecd808e382"
      },
      "execution_count": 1,
      "outputs": [
        {
          "output_type": "execute_result",
          "data": {
            "text/plain": [
              "{'a': 97,\n",
              " 'b': 98,\n",
              " 'c': 99,\n",
              " 'd': 100,\n",
              " 'e': 101,\n",
              " 'f': 102,\n",
              " 'g': 103,\n",
              " 'h': 104,\n",
              " 'i': 105,\n",
              " 'j': 106,\n",
              " 'k': 107,\n",
              " 'l': 108,\n",
              " 'm': 109,\n",
              " 'n': 110,\n",
              " 'o': 111,\n",
              " 'p': 112,\n",
              " 'q': 113,\n",
              " 'r': 114,\n",
              " 's': 115,\n",
              " 't': 116,\n",
              " 'u': 117,\n",
              " 'v': 118,\n",
              " 'w': 119,\n",
              " 'x': 120,\n",
              " 'y': 121,\n",
              " 'z': 122}"
            ]
          },
          "metadata": {},
          "execution_count": 1
        }
      ]
    }
  ]
}